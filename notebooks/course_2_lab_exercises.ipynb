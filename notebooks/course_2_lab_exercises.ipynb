{
 "cells": [
  {
   "cell_type": "code",
   "execution_count": 11,
   "metadata": {},
   "outputs": [
    {
     "name": "stderr",
     "output_type": "stream",
     "text": [
      "Loading required package: BayesFactor\n",
      "Loading required package: coda\n",
      "Loading required package: Matrix\n",
      "************\n",
      "Welcome to BayesFactor 0.9.12-4.2. If you have questions, please contact Richard Morey (richarddmorey@gmail.com).\n",
      "\n",
      "Type BFManual() to open the manual.\n",
      "************\n"
     ]
    }
   ],
   "source": [
    "suppressMessages(library(dplyr))\n",
    "library(shiny)\n",
    "library(ggplot2)\n",
    "library(statsr)"
   ]
  },
  {
   "cell_type": "code",
   "execution_count": 3,
   "metadata": {},
   "outputs": [],
   "source": [
    "load(\"../data/ames.rda\")"
   ]
  },
  {
   "cell_type": "code",
   "execution_count": 4,
   "metadata": {},
   "outputs": [
    {
     "data": {
      "text/html": [
       "<table>\n",
       "<caption>A tibble: 6 × 82</caption>\n",
       "<thead>\n",
       "\t<tr><th scope=col>Order</th><th scope=col>PID</th><th scope=col>area</th><th scope=col>price</th><th scope=col>MS.SubClass</th><th scope=col>MS.Zoning</th><th scope=col>Lot.Frontage</th><th scope=col>Lot.Area</th><th scope=col>Street</th><th scope=col>Alley</th><th scope=col>⋯</th><th scope=col>Screen.Porch</th><th scope=col>Pool.Area</th><th scope=col>Pool.QC</th><th scope=col>Fence</th><th scope=col>Misc.Feature</th><th scope=col>Misc.Val</th><th scope=col>Mo.Sold</th><th scope=col>Yr.Sold</th><th scope=col>Sale.Type</th><th scope=col>Sale.Condition</th></tr>\n",
       "\t<tr><th scope=col>&lt;int&gt;</th><th scope=col>&lt;int&gt;</th><th scope=col>&lt;int&gt;</th><th scope=col>&lt;int&gt;</th><th scope=col>&lt;int&gt;</th><th scope=col>&lt;fct&gt;</th><th scope=col>&lt;int&gt;</th><th scope=col>&lt;int&gt;</th><th scope=col>&lt;fct&gt;</th><th scope=col>&lt;fct&gt;</th><th scope=col>⋯</th><th scope=col>&lt;int&gt;</th><th scope=col>&lt;int&gt;</th><th scope=col>&lt;fct&gt;</th><th scope=col>&lt;fct&gt;</th><th scope=col>&lt;fct&gt;</th><th scope=col>&lt;int&gt;</th><th scope=col>&lt;int&gt;</th><th scope=col>&lt;int&gt;</th><th scope=col>&lt;fct&gt;</th><th scope=col>&lt;fct&gt;</th></tr>\n",
       "</thead>\n",
       "<tbody>\n",
       "\t<tr><td>1</td><td>526301100</td><td>1656</td><td>215000</td><td>20</td><td>RL</td><td>141</td><td>31770</td><td>Pave</td><td>NA</td><td>⋯</td><td>  0</td><td>0</td><td>NA</td><td>NA   </td><td>NA  </td><td>    0</td><td>5</td><td>2010</td><td>WD </td><td>Normal</td></tr>\n",
       "\t<tr><td>2</td><td>526350040</td><td> 896</td><td>105000</td><td>20</td><td>RH</td><td> 80</td><td>11622</td><td>Pave</td><td>NA</td><td>⋯</td><td>120</td><td>0</td><td>NA</td><td>MnPrv</td><td>NA  </td><td>    0</td><td>6</td><td>2010</td><td>WD </td><td>Normal</td></tr>\n",
       "\t<tr><td>3</td><td>526351010</td><td>1329</td><td>172000</td><td>20</td><td>RL</td><td> 81</td><td>14267</td><td>Pave</td><td>NA</td><td>⋯</td><td>  0</td><td>0</td><td>NA</td><td>NA   </td><td>Gar2</td><td>12500</td><td>6</td><td>2010</td><td>WD </td><td>Normal</td></tr>\n",
       "\t<tr><td>4</td><td>526353030</td><td>2110</td><td>244000</td><td>20</td><td>RL</td><td> 93</td><td>11160</td><td>Pave</td><td>NA</td><td>⋯</td><td>  0</td><td>0</td><td>NA</td><td>NA   </td><td>NA  </td><td>    0</td><td>4</td><td>2010</td><td>WD </td><td>Normal</td></tr>\n",
       "\t<tr><td>5</td><td>527105010</td><td>1629</td><td>189900</td><td>60</td><td>RL</td><td> 74</td><td>13830</td><td>Pave</td><td>NA</td><td>⋯</td><td>  0</td><td>0</td><td>NA</td><td>MnPrv</td><td>NA  </td><td>    0</td><td>3</td><td>2010</td><td>WD </td><td>Normal</td></tr>\n",
       "\t<tr><td>6</td><td>527105030</td><td>1604</td><td>195500</td><td>60</td><td>RL</td><td> 78</td><td> 9978</td><td>Pave</td><td>NA</td><td>⋯</td><td>  0</td><td>0</td><td>NA</td><td>NA   </td><td>NA  </td><td>    0</td><td>6</td><td>2010</td><td>WD </td><td>Normal</td></tr>\n",
       "</tbody>\n",
       "</table>\n"
      ],
      "text/latex": [
       "A tibble: 6 × 82\n",
       "\\begin{tabular}{r|llllllllllllllllllllllllllllllllllllllllllllllllllllllllllllllllllllllllllllllllll}\n",
       " Order & PID & area & price & MS.SubClass & MS.Zoning & Lot.Frontage & Lot.Area & Street & Alley & Lot.Shape & Land.Contour & Utilities & Lot.Config & Land.Slope & Neighborhood & Condition.1 & Condition.2 & Bldg.Type & House.Style & Overall.Qual & Overall.Cond & Year.Built & Year.Remod.Add & Roof.Style & Roof.Matl & Exterior.1st & Exterior.2nd & Mas.Vnr.Type & Mas.Vnr.Area & Exter.Qual & Exter.Cond & Foundation & Bsmt.Qual & Bsmt.Cond & Bsmt.Exposure & BsmtFin.Type.1 & BsmtFin.SF.1 & BsmtFin.Type.2 & BsmtFin.SF.2 & Bsmt.Unf.SF & Total.Bsmt.SF & Heating & Heating.QC & Central.Air & Electrical & X1st.Flr.SF & X2nd.Flr.SF & Low.Qual.Fin.SF & Bsmt.Full.Bath & Bsmt.Half.Bath & Full.Bath & Half.Bath & Bedroom.AbvGr & Kitchen.AbvGr & Kitchen.Qual & TotRms.AbvGrd & Functional & Fireplaces & Fireplace.Qu & Garage.Type & Garage.Yr.Blt & Garage.Finish & Garage.Cars & Garage.Area & Garage.Qual & Garage.Cond & Paved.Drive & Wood.Deck.SF & Open.Porch.SF & Enclosed.Porch & X3Ssn.Porch & Screen.Porch & Pool.Area & Pool.QC & Fence & Misc.Feature & Misc.Val & Mo.Sold & Yr.Sold & Sale.Type & Sale.Condition\\\\\n",
       " <int> & <int> & <int> & <int> & <int> & <fct> & <int> & <int> & <fct> & <fct> & <fct> & <fct> & <fct> & <fct> & <fct> & <fct> & <fct> & <fct> & <fct> & <fct> & <int> & <int> & <int> & <int> & <fct> & <fct> & <fct> & <fct> & <fct> & <int> & <fct> & <fct> & <fct> & <fct> & <fct> & <fct> & <fct> & <int> & <fct> & <int> & <int> & <int> & <fct> & <fct> & <fct> & <fct> & <int> & <int> & <int> & <int> & <int> & <int> & <int> & <int> & <int> & <fct> & <int> & <fct> & <int> & <fct> & <fct> & <int> & <fct> & <int> & <int> & <fct> & <fct> & <fct> & <int> & <int> & <int> & <int> & <int> & <int> & <fct> & <fct> & <fct> & <int> & <int> & <int> & <fct> & <fct>\\\\\n",
       "\\hline\n",
       "\t 1 & 526301100 & 1656 & 215000 & 20 & RL & 141 & 31770 & Pave & NA & IR1 & Lvl & AllPub & Corner & Gtl & NAmes   & Norm  & Norm & 1Fam & 1Story & 6 & 5 & 1960 & 1960 & Hip   & CompShg & BrkFace & Plywood & Stone   & 112 & TA & TA & CBlock & TA & Gd & Gd & BLQ &  639 & Unf &   0 &  441 & 1080 & GasA & Fa & Y & SBrkr & 1656 &   0 & 0 & 1 & 0 & 1 & 0 & 3 & 1 & TA & 7 & Typ & 2 & Gd & Attchd & 1960 & Fin & 2 & 528 & TA & TA & P & 210 & 62 & 0 & 0 &   0 & 0 & NA & NA    & NA   &     0 & 5 & 2010 & WD  & Normal\\\\\n",
       "\t 2 & 526350040 &  896 & 105000 & 20 & RH &  80 & 11622 & Pave & NA & Reg & Lvl & AllPub & Inside & Gtl & NAmes   & Feedr & Norm & 1Fam & 1Story & 5 & 6 & 1961 & 1961 & Gable & CompShg & VinylSd & VinylSd & None    &   0 & TA & TA & CBlock & TA & TA & No & Rec &  468 & LwQ & 144 &  270 &  882 & GasA & TA & Y & SBrkr &  896 &   0 & 0 & 0 & 0 & 1 & 0 & 2 & 1 & TA & 5 & Typ & 0 & NA & Attchd & 1961 & Unf & 1 & 730 & TA & TA & Y & 140 &  0 & 0 & 0 & 120 & 0 & NA & MnPrv & NA   &     0 & 6 & 2010 & WD  & Normal\\\\\n",
       "\t 3 & 526351010 & 1329 & 172000 & 20 & RL &  81 & 14267 & Pave & NA & IR1 & Lvl & AllPub & Corner & Gtl & NAmes   & Norm  & Norm & 1Fam & 1Story & 6 & 6 & 1958 & 1958 & Hip   & CompShg & Wd Sdng & Wd Sdng & BrkFace & 108 & TA & TA & CBlock & TA & TA & No & ALQ &  923 & Unf &   0 &  406 & 1329 & GasA & TA & Y & SBrkr & 1329 &   0 & 0 & 0 & 0 & 1 & 1 & 3 & 1 & Gd & 6 & Typ & 0 & NA & Attchd & 1958 & Unf & 1 & 312 & TA & TA & Y & 393 & 36 & 0 & 0 &   0 & 0 & NA & NA    & Gar2 & 12500 & 6 & 2010 & WD  & Normal\\\\\n",
       "\t 4 & 526353030 & 2110 & 244000 & 20 & RL &  93 & 11160 & Pave & NA & Reg & Lvl & AllPub & Corner & Gtl & NAmes   & Norm  & Norm & 1Fam & 1Story & 7 & 5 & 1968 & 1968 & Hip   & CompShg & BrkFace & BrkFace & None    &   0 & Gd & TA & CBlock & TA & TA & No & ALQ & 1065 & Unf &   0 & 1045 & 2110 & GasA & Ex & Y & SBrkr & 2110 &   0 & 0 & 1 & 0 & 2 & 1 & 3 & 1 & Ex & 8 & Typ & 2 & TA & Attchd & 1968 & Fin & 2 & 522 & TA & TA & Y &   0 &  0 & 0 & 0 &   0 & 0 & NA & NA    & NA   &     0 & 4 & 2010 & WD  & Normal\\\\\n",
       "\t 5 & 527105010 & 1629 & 189900 & 60 & RL &  74 & 13830 & Pave & NA & IR1 & Lvl & AllPub & Inside & Gtl & Gilbert & Norm  & Norm & 1Fam & 2Story & 5 & 5 & 1997 & 1998 & Gable & CompShg & VinylSd & VinylSd & None    &   0 & TA & TA & PConc  & Gd & TA & No & GLQ &  791 & Unf &   0 &  137 &  928 & GasA & Gd & Y & SBrkr &  928 & 701 & 0 & 0 & 0 & 2 & 1 & 3 & 1 & TA & 6 & Typ & 1 & TA & Attchd & 1997 & Fin & 2 & 482 & TA & TA & Y & 212 & 34 & 0 & 0 &   0 & 0 & NA & MnPrv & NA   &     0 & 3 & 2010 & WD  & Normal\\\\\n",
       "\t 6 & 527105030 & 1604 & 195500 & 60 & RL &  78 &  9978 & Pave & NA & IR1 & Lvl & AllPub & Inside & Gtl & Gilbert & Norm  & Norm & 1Fam & 2Story & 6 & 6 & 1998 & 1998 & Gable & CompShg & VinylSd & VinylSd & BrkFace &  20 & TA & TA & PConc  & TA & TA & No & GLQ &  602 & Unf &   0 &  324 &  926 & GasA & Ex & Y & SBrkr &  926 & 678 & 0 & 0 & 0 & 2 & 1 & 3 & 1 & Gd & 7 & Typ & 1 & Gd & Attchd & 1998 & Fin & 2 & 470 & TA & TA & Y & 360 & 36 & 0 & 0 &   0 & 0 & NA & NA    & NA   &     0 & 6 & 2010 & WD  & Normal\\\\\n",
       "\\end{tabular}\n"
      ],
      "text/markdown": [
       "\n",
       "A tibble: 6 × 82\n",
       "\n",
       "| Order &lt;int&gt; | PID &lt;int&gt; | area &lt;int&gt; | price &lt;int&gt; | MS.SubClass &lt;int&gt; | MS.Zoning &lt;fct&gt; | Lot.Frontage &lt;int&gt; | Lot.Area &lt;int&gt; | Street &lt;fct&gt; | Alley &lt;fct&gt; | ⋯ ⋯ | Screen.Porch &lt;int&gt; | Pool.Area &lt;int&gt; | Pool.QC &lt;fct&gt; | Fence &lt;fct&gt; | Misc.Feature &lt;fct&gt; | Misc.Val &lt;int&gt; | Mo.Sold &lt;int&gt; | Yr.Sold &lt;int&gt; | Sale.Type &lt;fct&gt; | Sale.Condition &lt;fct&gt; |\n",
       "|---|---|---|---|---|---|---|---|---|---|---|---|---|---|---|---|---|---|---|---|---|\n",
       "| 1 | 526301100 | 1656 | 215000 | 20 | RL | 141 | 31770 | Pave | NA | ⋯ |   0 | 0 | NA | NA    | NA   |     0 | 5 | 2010 | WD  | Normal |\n",
       "| 2 | 526350040 |  896 | 105000 | 20 | RH |  80 | 11622 | Pave | NA | ⋯ | 120 | 0 | NA | MnPrv | NA   |     0 | 6 | 2010 | WD  | Normal |\n",
       "| 3 | 526351010 | 1329 | 172000 | 20 | RL |  81 | 14267 | Pave | NA | ⋯ |   0 | 0 | NA | NA    | Gar2 | 12500 | 6 | 2010 | WD  | Normal |\n",
       "| 4 | 526353030 | 2110 | 244000 | 20 | RL |  93 | 11160 | Pave | NA | ⋯ |   0 | 0 | NA | NA    | NA   |     0 | 4 | 2010 | WD  | Normal |\n",
       "| 5 | 527105010 | 1629 | 189900 | 60 | RL |  74 | 13830 | Pave | NA | ⋯ |   0 | 0 | NA | MnPrv | NA   |     0 | 3 | 2010 | WD  | Normal |\n",
       "| 6 | 527105030 | 1604 | 195500 | 60 | RL |  78 |  9978 | Pave | NA | ⋯ |   0 | 0 | NA | NA    | NA   |     0 | 6 | 2010 | WD  | Normal |\n",
       "\n"
      ],
      "text/plain": [
       "  Order PID       area price  MS.SubClass MS.Zoning Lot.Frontage Lot.Area\n",
       "1 1     526301100 1656 215000 20          RL        141          31770   \n",
       "2 2     526350040  896 105000 20          RH         80          11622   \n",
       "3 3     526351010 1329 172000 20          RL         81          14267   \n",
       "4 4     526353030 2110 244000 20          RL         93          11160   \n",
       "5 5     527105010 1629 189900 60          RL         74          13830   \n",
       "6 6     527105030 1604 195500 60          RL         78           9978   \n",
       "  Street Alley ⋯ Screen.Porch Pool.Area Pool.QC Fence Misc.Feature Misc.Val\n",
       "1 Pave   NA    ⋯   0          0         NA      NA    NA               0   \n",
       "2 Pave   NA    ⋯ 120          0         NA      MnPrv NA               0   \n",
       "3 Pave   NA    ⋯   0          0         NA      NA    Gar2         12500   \n",
       "4 Pave   NA    ⋯   0          0         NA      NA    NA               0   \n",
       "5 Pave   NA    ⋯   0          0         NA      MnPrv NA               0   \n",
       "6 Pave   NA    ⋯   0          0         NA      NA    NA               0   \n",
       "  Mo.Sold Yr.Sold Sale.Type Sale.Condition\n",
       "1 5       2010    WD        Normal        \n",
       "2 6       2010    WD        Normal        \n",
       "3 6       2010    WD        Normal        \n",
       "4 4       2010    WD        Normal        \n",
       "5 3       2010    WD        Normal        \n",
       "6 6       2010    WD        Normal        "
      ]
     },
     "metadata": {},
     "output_type": "display_data"
    }
   ],
   "source": [
    "head(ames)"
   ]
  },
  {
   "cell_type": "code",
   "execution_count": 12,
   "metadata": {},
   "outputs": [],
   "source": [
    "df <- ames %>% select(area, price)"
   ]
  },
  {
   "cell_type": "code",
   "execution_count": 13,
   "metadata": {},
   "outputs": [
    {
     "data": {
      "image/png": "[encoded data removed]",
      "text/plain": [
       "plot without title"
      ]
     },
     "metadata": {},
     "output_type": "display_data"
    }
   ],
   "source": [
    "ggplot(data = df, aes(x = area)) +\n",
    "  geom_histogram(binwidth = 250)"
   ]
  },
  {
   "cell_type": "code",
   "execution_count": 14,
   "metadata": {},
   "outputs": [
    {
     "data": {
      "text/html": [
       "<table>\n",
       "<caption>A tibble: 1 × 8</caption>\n",
       "<thead>\n",
       "\t<tr><th scope=col>mu</th><th scope=col>pop_med</th><th scope=col>sigma</th><th scope=col>pop_iqr</th><th scope=col>pop_min</th><th scope=col>pop_max</th><th scope=col>pop_q1</th><th scope=col>pop_q3</th></tr>\n",
       "\t<tr><th scope=col>&lt;dbl&gt;</th><th scope=col>&lt;dbl&gt;</th><th scope=col>&lt;dbl&gt;</th><th scope=col>&lt;dbl&gt;</th><th scope=col>&lt;int&gt;</th><th scope=col>&lt;int&gt;</th><th scope=col>&lt;dbl&gt;</th><th scope=col>&lt;dbl&gt;</th></tr>\n",
       "</thead>\n",
       "<tbody>\n",
       "\t<tr><td>1499.69</td><td>1442</td><td>505.5089</td><td>616.75</td><td>334</td><td>5642</td><td>1126</td><td>1742.75</td></tr>\n",
       "</tbody>\n",
       "</table>\n"
      ],
      "text/latex": [
       "A tibble: 1 × 8\n",
       "\\begin{tabular}{r|llllllll}\n",
       " mu & pop\\_med & sigma & pop\\_iqr & pop\\_min & pop\\_max & pop\\_q1 & pop\\_q3\\\\\n",
       " <dbl> & <dbl> & <dbl> & <dbl> & <int> & <int> & <dbl> & <dbl>\\\\\n",
       "\\hline\n",
       "\t 1499.69 & 1442 & 505.5089 & 616.75 & 334 & 5642 & 1126 & 1742.75\\\\\n",
       "\\end{tabular}\n"
      ],
      "text/markdown": [
       "\n",
       "A tibble: 1 × 8\n",
       "\n",
       "| mu &lt;dbl&gt; | pop_med &lt;dbl&gt; | sigma &lt;dbl&gt; | pop_iqr &lt;dbl&gt; | pop_min &lt;int&gt; | pop_max &lt;int&gt; | pop_q1 &lt;dbl&gt; | pop_q3 &lt;dbl&gt; |\n",
       "|---|---|---|---|---|---|---|---|\n",
       "| 1499.69 | 1442 | 505.5089 | 616.75 | 334 | 5642 | 1126 | 1742.75 |\n",
       "\n"
      ],
      "text/plain": [
       "  mu      pop_med sigma    pop_iqr pop_min pop_max pop_q1 pop_q3 \n",
       "1 1499.69 1442    505.5089 616.75  334     5642    1126   1742.75"
      ]
     },
     "metadata": {},
     "output_type": "display_data"
    }
   ],
   "source": [
    "df %>%\n",
    "  summarise(mu = mean(area), pop_med = median(area), \n",
    "            sigma = sd(area), pop_iqr = IQR(area),\n",
    "            pop_min = min(area), pop_max = max(area),\n",
    "            pop_q1 = quantile(area, 0.25),  # first quartile, 25th percentile\n",
    "            pop_q3 = quantile(area, 0.75))  # third quartile, 75th percentile"
   ]
  },
  {
   "cell_type": "markdown",
   "metadata": {},
   "source": [
    "### Answer to question 1 \n",
    "\n",
    "I don't know\n",
    "    "
   ]
  },
  {
   "cell_type": "code",
   "execution_count": 17,
   "metadata": {},
   "outputs": [],
   "source": [
    "samp1 <- df %>%\n",
    "  sample_n(size = 50)"
   ]
  },
  {
   "cell_type": "code",
   "execution_count": 25,
   "metadata": {},
   "outputs": [
    {
     "data": {
      "text/html": [
       "<table>\n",
       "<caption>A tibble: 1 × 8</caption>\n",
       "<thead>\n",
       "\t<tr><th scope=col>x_bar</th><th scope=col>pop_med</th><th scope=col>sighat</th><th scope=col>pop_iqr</th><th scope=col>pop_min</th><th scope=col>pop_max</th><th scope=col>pop_q1</th><th scope=col>pop_q3</th></tr>\n",
       "\t<tr><th scope=col>&lt;dbl&gt;</th><th scope=col>&lt;dbl&gt;</th><th scope=col>&lt;dbl&gt;</th><th scope=col>&lt;dbl&gt;</th><th scope=col>&lt;int&gt;</th><th scope=col>&lt;int&gt;</th><th scope=col>&lt;dbl&gt;</th><th scope=col>&lt;dbl&gt;</th></tr>\n",
       "</thead>\n",
       "<tbody>\n",
       "\t<tr><td>1568.76</td><td>1589</td><td>445.2928</td><td>581.25</td><td>694</td><td>2640</td><td>1203</td><td>1784.25</td></tr>\n",
       "</tbody>\n",
       "</table>\n"
      ],
      "text/latex": [
       "A tibble: 1 × 8\n",
       "\\begin{tabular}{r|llllllll}\n",
       " x\\_bar & pop\\_med & sighat & pop\\_iqr & pop\\_min & pop\\_max & pop\\_q1 & pop\\_q3\\\\\n",
       " <dbl> & <dbl> & <dbl> & <dbl> & <int> & <int> & <dbl> & <dbl>\\\\\n",
       "\\hline\n",
       "\t 1568.76 & 1589 & 445.2928 & 581.25 & 694 & 2640 & 1203 & 1784.25\\\\\n",
       "\\end{tabular}\n"
      ],
      "text/markdown": [
       "\n",
       "A tibble: 1 × 8\n",
       "\n",
       "| x_bar &lt;dbl&gt; | pop_med &lt;dbl&gt; | sighat &lt;dbl&gt; | pop_iqr &lt;dbl&gt; | pop_min &lt;int&gt; | pop_max &lt;int&gt; | pop_q1 &lt;dbl&gt; | pop_q3 &lt;dbl&gt; |\n",
       "|---|---|---|---|---|---|---|---|\n",
       "| 1568.76 | 1589 | 445.2928 | 581.25 | 694 | 2640 | 1203 | 1784.25 |\n",
       "\n"
      ],
      "text/plain": [
       "  x_bar   pop_med sighat   pop_iqr pop_min pop_max pop_q1 pop_q3 \n",
       "1 1568.76 1589    445.2928 581.25  694     2640    1203   1784.25"
      ]
     },
     "metadata": {},
     "output_type": "display_data"
    }
   ],
   "source": [
    "samp1 %>%\n",
    "  summarise(x_bar = mean(area), pop_med = median(area), \n",
    "            sighat = sd(area), pop_iqr = IQR(area),\n",
    "            pop_min = min(area), pop_max = max(area),\n",
    "            pop_q1 = quantile(area, 0.25),  # first quartile, 25th percentile\n",
    "            pop_q3 = quantile(area, 0.75))"
   ]
  },
  {
   "cell_type": "code",
   "execution_count": 24,
   "metadata": {},
   "outputs": [
    {
     "data": {
      "image/png": "[encoded data removed]",
      "text/plain": [
       "plot without title"
      ]
     },
     "metadata": {},
     "output_type": "display_data"
    }
   ],
   "source": [
    "ggplot(data = samp1, aes(x = area)) +\n",
    "  geom_histogram(binwidth = 75)"
   ]
  },
  {
   "cell_type": "markdown",
   "metadata": {},
   "source": [
    "### Question 2\n",
    "\n",
    "C - the higher sample number"
   ]
  },
  {
   "cell_type": "code",
   "execution_count": 26,
   "metadata": {},
   "outputs": [
    {
     "data": {
      "image/png": "[encoded data removed]",
      "text/plain": [
       "plot without title"
      ]
     },
     "metadata": {},
     "output_type": "display_data"
    }
   ],
   "source": [
    "sample_means50 <- ames %>%\n",
    "                    rep_sample_n(size = 50, reps = 15000, replace = TRUE) %>%\n",
    "                    summarise(x_bar = mean(area))\n",
    "\n",
    "ggplot(data = sample_means50, aes(x = x_bar)) +\n",
    "  geom_histogram(binwidth = 20)"
   ]
  },
  {
   "cell_type": "code",
   "execution_count": 27,
   "metadata": {},
   "outputs": [
    {
     "data": {
      "text/html": [
       "15000"
      ],
      "text/latex": [
       "15000"
      ],
      "text/markdown": [
       "15000"
      ],
      "text/plain": [
       "[1] 15000"
      ]
     },
     "metadata": {},
     "output_type": "display_data"
    }
   ],
   "source": [
    "nrow(sample_means50)"
   ]
  },
  {
   "cell_type": "code",
   "execution_count": 35,
   "metadata": {},
   "outputs": [
    {
     "data": {
      "image/png": "[encoded data removed]",
      "text/plain": [
       "plot without title"
      ]
     },
     "metadata": {},
     "output_type": "display_data"
    }
   ],
   "source": [
    "sample_means_small <- ames %>%\n",
    "                    rep_sample_n(size = 10, reps = 25, replace = TRUE) %>%\n",
    "                    summarise(x_bar = mean(area))\n",
    "\n",
    "ggplot(data = sample_means_small, aes(x = x_bar)) +\n",
    "  geom_histogram(binwidth = 100)"
   ]
  },
  {
   "cell_type": "markdown",
   "metadata": {},
   "source": [
    "### 3. There are 25 elements in this sample"
   ]
  },
  {
   "cell_type": "code",
   "execution_count": 37,
   "metadata": {},
   "outputs": [
    {
     "data": {
      "text/html": [
       "<dl class=dl-horizontal>\n",
       "\t<dt>replicate</dt>\n",
       "\t\t<dd>25</dd>\n",
       "\t<dt>x_bar</dt>\n",
       "\t\t<dd>25</dd>\n",
       "</dl>\n"
      ],
      "text/latex": [
       "\\begin{description*}\n",
       "\\item[replicate] 25\n",
       "\\item[x\\textbackslash{}\\_bar] 25\n",
       "\\end{description*}\n"
      ],
      "text/markdown": [
       "replicate\n",
       ":   25x_bar\n",
       ":   25\n",
       "\n"
      ],
      "text/plain": [
       "replicate     x_bar \n",
       "       25        25 "
      ]
     },
     "metadata": {},
     "output_type": "display_data"
    }
   ],
   "source": [
    "lengths(sample_means_small)"
   ]
  },
  {
   "cell_type": "markdown",
   "metadata": {},
   "source": [
    "### 4. Each element repressents the mean square-footage of a simple-random sample of 10 houses"
   ]
  },
  {
   "cell_type": "markdown",
   "metadata": {},
   "source": [
    "### 5. Variability of sampling distribution decreases"
   ]
  },
  {
   "cell_type": "markdown",
   "metadata": {},
   "source": [
    "# Switched over to Rstudio due to incapatability with shinyapp"
   ]
  },
  {
   "cell_type": "code",
   "execution_count": null,
   "metadata": {},
   "outputs": [],
   "source": []
  }
 ],
 "metadata": {
  "kernelspec": {
   "display_name": "R",
   "language": "R",
   "name": "ir"
  },
  "language_info": {
   "codemirror_mode": "r",
   "file_extension": ".r",
   "mimetype": "text/x-r-source",
   "name": "R",
   "pygments_lexer": "r",
   "version": "3.6.1"
  }
 },
 "nbformat": 4,
 "nbformat_minor": 4
}
