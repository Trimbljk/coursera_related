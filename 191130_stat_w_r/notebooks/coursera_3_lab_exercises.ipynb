{
 "cells": [
  {
   "cell_type": "code",
   "execution_count": 1,
   "metadata": {},
   "outputs": [
    {
     "ename": "ERROR",
     "evalue": "Error in library(statsr): there is no package called ‘statsr’\n",
     "output_type": "error",
     "traceback": [
      "Error in library(statsr): there is no package called ‘statsr’\nTraceback:\n",
      "1. suppressMessages(library(statsr))",
      "2. withCallingHandlers(expr, message = function(c) invokeRestart(\"muffleMessage\"))",
      "3. library(statsr)"
     ]
    }
   ],
   "source": [
    "suppressMessages(library(statsr))\n",
    "suppressMessages(library(dplyr))\n",
    "library(ggplot2)\n",
    "suppressMessages(library(tidyr))"
   ]
  },
  {
   "cell_type": "code",
   "execution_count": null,
   "metadata": {},
   "outputs": [],
   "source": []
  }
 ],
 "metadata": {
  "kernelspec": {
   "display_name": "R",
   "language": "R",
   "name": "ir"
  },
  "language_info": {
   "codemirror_mode": "r",
   "file_extension": ".r",
   "mimetype": "text/x-r-source",
   "name": "R",
   "pygments_lexer": "r",
   "version": "3.6.1"
  }
 },
 "nbformat": 4,
 "nbformat_minor": 4
}
