{
 "cells": [
  {
   "cell_type": "code",
   "execution_count": null,
   "metadata": {},
   "outputs": [
    {
     "name": "stderr",
     "output_type": "stream",
     "text": [
      "Updating HTML index of packages in '.Library'\n",
      "Making 'packages.html' ... done\n",
      "Updating HTML index of packages in '.Library'\n",
      "Making 'packages.html' ... done\n",
      "Updating HTML index of packages in '.Library'\n",
      "Making 'packages.html' ... done\n"
     ]
    }
   ],
   "source": [
    "install.packages(\"devtools\")\n",
    "install.packages(\"dplyr\")\n",
    "install.packages(\"rmarkdown\")\n",
    "install.packages(\"ggplot2\")\n",
    "install.packages(\"broom\")\n",
    "install.packages(\"gridExtra\")\n",
    "install.packages(\"shiny\")\n",
    "install.packages(\"cubature\")\n",
    "install.packages(\"tidyr\")"
   ]
  },
  {
   "cell_type": "code",
   "execution_count": 3,
   "metadata": {},
   "outputs": [
    {
     "name": "stderr",
     "output_type": "stream",
     "text": [
      "\n",
      "Attaching package: ‘dplyr’\n",
      "\n",
      "The following objects are masked from ‘package:stats’:\n",
      "\n",
      "    filter, lag\n",
      "\n",
      "The following objects are masked from ‘package:base’:\n",
      "\n",
      "    intersect, setdiff, setequal, union\n",
      "\n",
      "Loading tidyverse: tibble\n",
      "Loading tidyverse: tidyr\n",
      "Loading tidyverse: readr\n",
      "Loading tidyverse: purrr\n",
      "Conflicts with tidy packages ---------------------------------------------------\n",
      "filter(): dplyr, stats\n",
      "lag():    dplyr, stats\n",
      "\n",
      "Attaching package: ‘reshape2’\n",
      "\n",
      "The following object is masked from ‘package:tidyr’:\n",
      "\n",
      "    smiths\n",
      "\n"
     ]
    }
   ],
   "source": [
    "library(ggplot2)\n",
    "library(dplyr)\n",
    "library(tidyverse)\n",
    "library(reshape2)"
   ]
  },
  {
   "cell_type": "code",
   "execution_count": 4,
   "metadata": {},
   "outputs": [],
   "source": [
    "load(\"../data/brfss2013\")\n",
    "df <- brfss2013"
   ]
  },
  {
   "cell_type": "code",
   "execution_count": 5,
   "metadata": {},
   "outputs": [
    {
     "data": {
      "text/html": [
       "491775"
      ],
      "text/latex": [
       "491775"
      ],
      "text/markdown": [
       "491775"
      ],
      "text/plain": [
       "[1] 491775"
      ]
     },
     "metadata": {},
     "output_type": "display_data"
    }
   ],
   "source": [
    "nrow(brfss2013)"
   ]
  },
  {
   "cell_type": "markdown",
   "metadata": {},
   "source": [
    "### Data"
   ]
  },
  {
   "cell_type": "markdown",
   "metadata": {},
   "source": [
    "The BRFSS data is a random sample of adults 18 years or older from all US states and outlying territories. The survey questions are asked on a landline phone or cell phone from residentials household where they select a random adult or from college housing. Cell phones are also used for contact purposes. The survey could potentially be a stratified sample (groups separated by college and non college housing) but it doesn't appear they this is the case. This is not assignment as no procedures are being performed to assign participants to control or experimental groups."
   ]
  },
  {
   "cell_type": "markdown",
   "metadata": {},
   "source": [
    "### Research Question (RQ) 1\n",
    "    a) Does household income correlate with a decision to not seek medical attention when needed?\n",
    "    b) Is there a decision difference between the sexes?\n",
    "    \n",
    "### Reason for Interest\n",
    "    I don't think I've seen a statistical analysis addressing this specific correlation, though I'm \n",
    "    sure it has been done. I'm curious to see if there is a decision difference amongst the sexes, \n",
    "    about medical care, regarding their financial situation."
   ]
  },
  {
   "cell_type": "markdown",
   "metadata": {},
   "source": [
    "### Exploratory Data Analysis (EDA) for RQ1"
   ]
  },
  {
   "cell_type": "code",
   "execution_count": 6,
   "metadata": {},
   "outputs": [],
   "source": [
    "med <- (\n",
    "    \n",
    "    df %>%  \n",
    "    select(medcost, income2, sex) %>%\n",
    "    drop_na()\n",
    "    \n",
    ")"
   ]
  },
  {
   "cell_type": "code",
   "execution_count": 7,
   "metadata": {},
   "outputs": [
    {
     "data": {
      "text/html": [
       "<table>\n",
       "<thead><tr><th scope=col>medcost</th><th scope=col>income2</th><th scope=col>sex</th></tr></thead>\n",
       "<tbody>\n",
       "\t<tr><td>No               </td><td>Less than $75,000</td><td>Female           </td></tr>\n",
       "\t<tr><td>No               </td><td>$75,000 or more  </td><td>Female           </td></tr>\n",
       "\t<tr><td>No               </td><td>$75,000 or more  </td><td>Female           </td></tr>\n",
       "\t<tr><td>No               </td><td>Less than $75,000</td><td>Female           </td></tr>\n",
       "\t<tr><td>No               </td><td>Less than $50,000</td><td>Male             </td></tr>\n",
       "\t<tr><td>No               </td><td>$75,000 or more  </td><td>Female           </td></tr>\n",
       "</tbody>\n",
       "</table>\n"
      ],
      "text/latex": [
       "\\begin{tabular}{r|lll}\n",
       " medcost & income2 & sex\\\\\n",
       "\\hline\n",
       "\t No                  & Less than \\$75,000 & Female             \\\\\n",
       "\t No                  & \\$75,000 or more   & Female             \\\\\n",
       "\t No                  & \\$75,000 or more   & Female             \\\\\n",
       "\t No                  & Less than \\$75,000 & Female             \\\\\n",
       "\t No                  & Less than \\$50,000 & Male               \\\\\n",
       "\t No                  & \\$75,000 or more   & Female             \\\\\n",
       "\\end{tabular}\n"
      ],
      "text/markdown": [
       "\n",
       "medcost | income2 | sex | \n",
       "|---|---|---|---|---|---|\n",
       "| No                | Less than $75,000 | Female            | \n",
       "| No                | $75,000 or more   | Female            | \n",
       "| No                | $75,000 or more   | Female            | \n",
       "| No                | Less than $75,000 | Female            | \n",
       "| No                | Less than $50,000 | Male              | \n",
       "| No                | $75,000 or more   | Female            | \n",
       "\n",
       "\n"
      ],
      "text/plain": [
       "  medcost income2           sex   \n",
       "1 No      Less than $75,000 Female\n",
       "2 No      $75,000 or more   Female\n",
       "3 No      $75,000 or more   Female\n",
       "4 No      Less than $75,000 Female\n",
       "5 No      Less than $50,000 Male  \n",
       "6 No      $75,000 or more   Female"
      ]
     },
     "metadata": {},
     "output_type": "display_data"
    }
   ],
   "source": [
    "head(med)"
   ]
  },
  {
   "cell_type": "code",
   "execution_count": null,
   "metadata": {},
   "outputs": [],
   "source": [
    "ggplot(med, aes(x=income2, fill=medcost))+ geom_bar(position=\"fill\") + coord_flip() + facet_wrap(~sex)"
   ]
  },
  {
   "cell_type": "markdown",
   "metadata": {},
   "source": [
    "### Summary Statistics for RQ1"
   ]
  },
  {
   "cell_type": "code",
   "execution_count": 7,
   "metadata": {},
   "outputs": [
    {
     "name": "stderr",
     "output_type": "stream",
     "text": [
      "\n",
      "Attaching package: ‘data.table’\n",
      "\n",
      "The following objects are masked from ‘package:reshape2’:\n",
      "\n",
      "    dcast, melt\n",
      "\n",
      "The following object is masked from ‘package:purrr’:\n",
      "\n",
      "    transpose\n",
      "\n",
      "The following objects are masked from ‘package:dplyr’:\n",
      "\n",
      "    between, first, last\n",
      "\n"
     ]
    }
   ],
   "source": [
    "library(data.table)"
   ]
  },
  {
   "cell_type": "code",
   "execution_count": 8,
   "metadata": {},
   "outputs": [],
   "source": [
    "new_df <- \n",
    "(\n",
    "    \n",
    "    med %>%  \n",
    "    group_by(medcost, income2, sex) %>% \n",
    "    tally() %>%\n",
    "    spread(medcost, n) %>%\n",
    "    unite(\"income_by_sex\", income2:sex) %>%\n",
    "    mutate(total=rowSums(select_if(., is.numeric)))\n",
    ")\n"
   ]
  },
  {
   "cell_type": "code",
   "execution_count": 9,
   "metadata": {},
   "outputs": [
    {
     "data": {
      "text/html": [
       "<table>\n",
       "<thead><tr><th></th><th scope=col>income_by_sex</th><th scope=col>count_cost_issue</th><th scope=col>count_cost_not</th><th scope=col>total</th><th scope=col>pct_cost_issue</th><th scope=col>pct_cost_not_issue</th></tr></thead>\n",
       "<tbody>\n",
       "\t<tr><th scope=row>1</th><td>Less than $10,000_Male  </td><td>2400                    </td><td> 5862                   </td><td> 8262                   </td><td>0.29048656              </td><td>0.7095134               </td></tr>\n",
       "\t<tr><th scope=row>2</th><td>Less than $10,000_Female</td><td>4888                    </td><td>12172                   </td><td>17060                   </td><td>0.28651817              </td><td>0.7134818               </td></tr>\n",
       "\t<tr><th scope=row>4</th><td>Less than $15,000_Female</td><td>4513                    </td><td>12998                   </td><td>17511                   </td><td>0.25772372              </td><td>0.7422763               </td></tr>\n",
       "\t<tr><th scope=row>3</th><td>Less than $15,000_Male  </td><td>2320                    </td><td> 6847                   </td><td> 9167                   </td><td>0.25308171              </td><td>0.7469183               </td></tr>\n",
       "\t<tr><th scope=row>6</th><td>Less than $20,000_Female</td><td>5177                    </td><td>17066                   </td><td>22243                   </td><td>0.23274738              </td><td>0.7672526               </td></tr>\n",
       "\t<tr><th scope=row>5</th><td>Less than $20,000_Male  </td><td>2896                    </td><td> 9613                   </td><td>12509                   </td><td>0.23151331              </td><td>0.7684867               </td></tr>\n",
       "\t<tr><th scope=row>8</th><td>Less than $25,000_Female</td><td>5339                    </td><td>20607                   </td><td>25946                   </td><td>0.20577353              </td><td>0.7942265               </td></tr>\n",
       "\t<tr><th scope=row>7</th><td>Less than $25,000_Male  </td><td>2945                    </td><td>12731                   </td><td>15676                   </td><td>0.18786680              </td><td>0.8121332               </td></tr>\n",
       "\t<tr><th scope=row>10</th><td>Less than $35,000_Female</td><td>4608                    </td><td>24575                   </td><td>29183                   </td><td>0.15790015              </td><td>0.8420999               </td></tr>\n",
       "\t<tr><th scope=row>9</th><td>Less than $35,000_Male  </td><td>2535                    </td><td>17045                   </td><td>19580                   </td><td>0.12946885              </td><td>0.8705312               </td></tr>\n",
       "\t<tr><th scope=row>12</th><td>Less than $50,000_Female</td><td>4042                    </td><td>30617                   </td><td>34659                   </td><td>0.11662195              </td><td>0.8833781               </td></tr>\n",
       "\t<tr><th scope=row>11</th><td>Less than $50,000_Male  </td><td>2438                    </td><td>24330                   </td><td>26768                   </td><td>0.09107890              </td><td>0.9089211               </td></tr>\n",
       "\t<tr><th scope=row>14</th><td>Less than $75,000_Female</td><td>2859                    </td><td>32924                   </td><td>35783                   </td><td>0.07989828              </td><td>0.9201017               </td></tr>\n",
       "\t<tr><th scope=row>13</th><td>Less than $75,000_Male  </td><td>1740                    </td><td>27624                   </td><td>29364                   </td><td>0.05925623              </td><td>0.9407438               </td></tr>\n",
       "\t<tr><th scope=row>16</th><td>$75,000 or more_Female  </td><td>2374                    </td><td>56951                   </td><td>59325                   </td><td>0.04001686              </td><td>0.9599831               </td></tr>\n",
       "\t<tr><th scope=row>15</th><td>$75,000 or more_Male    </td><td>1685                    </td><td>54811                   </td><td>56496                   </td><td>0.02982512              </td><td>0.9701749               </td></tr>\n",
       "</tbody>\n",
       "</table>\n"
      ],
      "text/latex": [
       "\\begin{tabular}{r|llllll}\n",
       "  & income\\_by\\_sex & count\\_cost\\_issue & count\\_cost\\_not & total & pct\\_cost\\_issue & pct\\_cost\\_not\\_issue\\\\\n",
       "\\hline\n",
       "\t1 & Less than \\$10,000\\_Male   & 2400                         &  5862                        &  8262                        & 0.29048656                   & 0.7095134                   \\\\\n",
       "\t2 & Less than \\$10,000\\_Female & 4888                         & 12172                        & 17060                        & 0.28651817                   & 0.7134818                   \\\\\n",
       "\t4 & Less than \\$15,000\\_Female & 4513                         & 12998                        & 17511                        & 0.25772372                   & 0.7422763                   \\\\\n",
       "\t3 & Less than \\$15,000\\_Male   & 2320                         &  6847                        &  9167                        & 0.25308171                   & 0.7469183                   \\\\\n",
       "\t6 & Less than \\$20,000\\_Female & 5177                         & 17066                        & 22243                        & 0.23274738                   & 0.7672526                   \\\\\n",
       "\t5 & Less than \\$20,000\\_Male   & 2896                         &  9613                        & 12509                        & 0.23151331                   & 0.7684867                   \\\\\n",
       "\t8 & Less than \\$25,000\\_Female & 5339                         & 20607                        & 25946                        & 0.20577353                   & 0.7942265                   \\\\\n",
       "\t7 & Less than \\$25,000\\_Male   & 2945                         & 12731                        & 15676                        & 0.18786680                   & 0.8121332                   \\\\\n",
       "\t10 & Less than \\$35,000\\_Female & 4608                         & 24575                        & 29183                        & 0.15790015                   & 0.8420999                   \\\\\n",
       "\t9 & Less than \\$35,000\\_Male   & 2535                         & 17045                        & 19580                        & 0.12946885                   & 0.8705312                   \\\\\n",
       "\t12 & Less than \\$50,000\\_Female & 4042                         & 30617                        & 34659                        & 0.11662195                   & 0.8833781                   \\\\\n",
       "\t11 & Less than \\$50,000\\_Male   & 2438                         & 24330                        & 26768                        & 0.09107890                   & 0.9089211                   \\\\\n",
       "\t14 & Less than \\$75,000\\_Female & 2859                         & 32924                        & 35783                        & 0.07989828                   & 0.9201017                   \\\\\n",
       "\t13 & Less than \\$75,000\\_Male   & 1740                         & 27624                        & 29364                        & 0.05925623                   & 0.9407438                   \\\\\n",
       "\t16 & \\$75,000 or more\\_Female   & 2374                         & 56951                        & 59325                        & 0.04001686                   & 0.9599831                   \\\\\n",
       "\t15 & \\$75,000 or more\\_Male     & 1685                         & 54811                        & 56496                        & 0.02982512                   & 0.9701749                   \\\\\n",
       "\\end{tabular}\n"
      ],
      "text/markdown": [
       "\n",
       "| <!--/--> | income_by_sex | count_cost_issue | count_cost_not | total | pct_cost_issue | pct_cost_not_issue | \n",
       "|---|---|---|---|---|---|---|---|---|---|---|---|---|---|---|---|\n",
       "| 1 | Less than $10,000_Male   | 2400                     |  5862                    |  8262                    | 0.29048656               | 0.7095134                | \n",
       "| 2 | Less than $10,000_Female | 4888                     | 12172                    | 17060                    | 0.28651817               | 0.7134818                | \n",
       "| 4 | Less than $15,000_Female | 4513                     | 12998                    | 17511                    | 0.25772372               | 0.7422763                | \n",
       "| 3 | Less than $15,000_Male   | 2320                     |  6847                    |  9167                    | 0.25308171               | 0.7469183                | \n",
       "| 6 | Less than $20,000_Female | 5177                     | 17066                    | 22243                    | 0.23274738               | 0.7672526                | \n",
       "| 5 | Less than $20,000_Male   | 2896                     |  9613                    | 12509                    | 0.23151331               | 0.7684867                | \n",
       "| 8 | Less than $25,000_Female | 5339                     | 20607                    | 25946                    | 0.20577353               | 0.7942265                | \n",
       "| 7 | Less than $25,000_Male   | 2945                     | 12731                    | 15676                    | 0.18786680               | 0.8121332                | \n",
       "| 10 | Less than $35,000_Female | 4608                     | 24575                    | 29183                    | 0.15790015               | 0.8420999                | \n",
       "| 9 | Less than $35,000_Male   | 2535                     | 17045                    | 19580                    | 0.12946885               | 0.8705312                | \n",
       "| 12 | Less than $50,000_Female | 4042                     | 30617                    | 34659                    | 0.11662195               | 0.8833781                | \n",
       "| 11 | Less than $50,000_Male   | 2438                     | 24330                    | 26768                    | 0.09107890               | 0.9089211                | \n",
       "| 14 | Less than $75,000_Female | 2859                     | 32924                    | 35783                    | 0.07989828               | 0.9201017                | \n",
       "| 13 | Less than $75,000_Male   | 1740                     | 27624                    | 29364                    | 0.05925623               | 0.9407438                | \n",
       "| 16 | $75,000 or more_Female   | 2374                     | 56951                    | 59325                    | 0.04001686               | 0.9599831                | \n",
       "| 15 | $75,000 or more_Male     | 1685                     | 54811                    | 56496                    | 0.02982512               | 0.9701749                | \n",
       "\n",
       "\n"
      ],
      "text/plain": [
       "   income_by_sex            count_cost_issue count_cost_not total\n",
       "1  Less than $10,000_Male   2400              5862           8262\n",
       "2  Less than $10,000_Female 4888             12172          17060\n",
       "4  Less than $15,000_Female 4513             12998          17511\n",
       "3  Less than $15,000_Male   2320              6847           9167\n",
       "6  Less than $20,000_Female 5177             17066          22243\n",
       "5  Less than $20,000_Male   2896              9613          12509\n",
       "8  Less than $25,000_Female 5339             20607          25946\n",
       "7  Less than $25,000_Male   2945             12731          15676\n",
       "10 Less than $35,000_Female 4608             24575          29183\n",
       "9  Less than $35,000_Male   2535             17045          19580\n",
       "12 Less than $50,000_Female 4042             30617          34659\n",
       "11 Less than $50,000_Male   2438             24330          26768\n",
       "14 Less than $75,000_Female 2859             32924          35783\n",
       "13 Less than $75,000_Male   1740             27624          29364\n",
       "16 $75,000 or more_Female   2374             56951          59325\n",
       "15 $75,000 or more_Male     1685             54811          56496\n",
       "   pct_cost_issue pct_cost_not_issue\n",
       "1  0.29048656     0.7095134         \n",
       "2  0.28651817     0.7134818         \n",
       "4  0.25772372     0.7422763         \n",
       "3  0.25308171     0.7469183         \n",
       "6  0.23274738     0.7672526         \n",
       "5  0.23151331     0.7684867         \n",
       "8  0.20577353     0.7942265         \n",
       "7  0.18786680     0.8121332         \n",
       "10 0.15790015     0.8420999         \n",
       "9  0.12946885     0.8705312         \n",
       "12 0.11662195     0.8833781         \n",
       "11 0.09107890     0.9089211         \n",
       "14 0.07989828     0.9201017         \n",
       "13 0.05925623     0.9407438         \n",
       "16 0.04001686     0.9599831         \n",
       "15 0.02982512     0.9701749         "
      ]
     },
     "metadata": {},
     "output_type": "display_data"
    }
   ],
   "source": [
    "pcts <- new_df %>% select(2:3)\n",
    "pcts <- pcts/rowSums(pcts)\n",
    "names(pcts) <- c(\"pct_cost_issue\", \"pct_cost_not_issue\")\n",
    "final_df <- cbind(new_df, pcts)\n",
    "setnames(final_df, old=c(\"Yes\",\"No\"), new=c(\"count_cost_issue\", \"count_cost_not\"))\n",
    "summary_df <-final_df[order(-final_df$pct_cost_issue),]\n",
    "summary_df"
   ]
  },
  {
   "cell_type": "markdown",
   "metadata": {},
   "source": [
    "### Narrative RQ1"
   ]
  },
  {
   "cell_type": "markdown",
   "metadata": {},
   "source": [
    "To address the research question, I grouped filtered the BRFSS2013 data by medcost, sex and income (specifically the income2 column). I grouped all the data by the column headers and counted the totals of each grouping. Percentages were taken upon whether a group didn't seek medical attention when needed. The figure reflects the information in the summary statistics where regardless of sex, if individuals in that group make less than $10k more of them are likely to have responded yes, they DID NOT seek medical attention when needed. One could deduce from this information that is likely due to the high cost of medical care. A larger percentage of income would have to be spend on getting care."
   ]
  },
  {
   "cell_type": "code",
   "execution_count": null,
   "metadata": {},
   "outputs": [],
   "source": []
  }
 ],
 "metadata": {
  "kernelspec": {
   "display_name": "R",
   "language": "R",
   "name": "ir"
  },
  "language_info": {
   "codemirror_mode": "r",
   "file_extension": ".r",
   "mimetype": "text/x-r-source",
   "name": "R",
   "pygments_lexer": "r",
   "version": "3.4.1"
  }
 },
 "nbformat": 4,
 "nbformat_minor": 2
}
